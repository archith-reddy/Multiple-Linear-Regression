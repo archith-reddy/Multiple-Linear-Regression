{
  "nbformat": 4,
  "nbformat_minor": 0,
  "metadata": {
    "colab": {
      "name": "Multiple_Linear_Regression.ipynb",
      "provenance": []
    },
    "kernelspec": {
      "name": "python3",
      "display_name": "Python 3"
    }
  },
  "cells": [
    {
      "cell_type": "code",
      "metadata": {
        "id": "UI-kC-PYFc2d",
        "colab_type": "code",
        "colab": {}
      },
      "source": [
        "# libraries\n",
        "import pandas,numpy\n",
        "import matplotlib.pyplot as plt"
      ],
      "execution_count": 0,
      "outputs": []
    },
    {
      "cell_type": "code",
      "metadata": {
        "id": "fqH-GQFZGC1O",
        "colab_type": "code",
        "colab": {}
      },
      "source": [
        "dataset = pandas.read_csv('50_Startups.csv')\n",
        "\n",
        "# Independent Variables\n",
        "X = dataset.iloc[:,:-1].values\n",
        "\n",
        "# Dependent Variable\n",
        "Y = dataset.iloc[:,-1].values"
      ],
      "execution_count": 0,
      "outputs": []
    },
    {
      "cell_type": "code",
      "metadata": {
        "id": "pjuAhVy9HiOT",
        "colab_type": "code",
        "colab": {}
      },
      "source": [
        "# One-hot encoding \n",
        "from sklearn.compose import ColumnTransformer\n",
        "from sklearn.preprocessing import OneHotEncoder\n",
        "\n",
        "# One Hot Encoding 4th column 'State'\n",
        "ct = ColumnTransformer(transformers=[('encode',OneHotEncoder(),[3])],remainder='passthrough')\n",
        "X = numpy.array(ct.fit_transform(X))"
      ],
      "execution_count": 0,
      "outputs": []
    },
    {
      "cell_type": "code",
      "metadata": {
        "id": "8IMB2ZUwJxiZ",
        "colab_type": "code",
        "colab": {}
      },
      "source": [
        "# Spliting the dataset into training and testing sets\n",
        "from sklearn.model_selection import train_test_split\n",
        "X_train,X_test,Y_train,Y_test = train_test_split(X,Y,test_size=0.2,random_state=0)"
      ],
      "execution_count": 0,
      "outputs": []
    },
    {
      "cell_type": "code",
      "metadata": {
        "id": "jDHRaY-3KmgH",
        "colab_type": "code",
        "colab": {
          "base_uri": "https://localhost:8080/",
          "height": 34
        },
        "outputId": "ab0097d4-9521-47ea-a539-8a010223e2f5"
      },
      "source": [
        "# Training the model\n",
        "from sklearn.linear_model import LinearRegression\n",
        "lr = LinearRegression()\n",
        "lr.fit(X_train,Y_train)"
      ],
      "execution_count": 10,
      "outputs": [
        {
          "output_type": "execute_result",
          "data": {
            "text/plain": [
              "LinearRegression(copy_X=True, fit_intercept=True, n_jobs=None, normalize=False)"
            ]
          },
          "metadata": {
            "tags": []
          },
          "execution_count": 10
        }
      ]
    },
    {
      "cell_type": "code",
      "metadata": {
        "id": "-O5PKolILBYo",
        "colab_type": "code",
        "colab": {
          "base_uri": "https://localhost:8080/",
          "height": 34
        },
        "outputId": "6ca12346-7743-47fd-b4c4-1b6aa3bf49fb"
      },
      "source": [
        "# Predicting results\n",
        "Y_pred = lr.predict(X_test)\n",
        "\n",
        "# accuracy\n",
        "from sklearn.metrics import accuracy_score\n",
        "score = lr.score(X_test,Y_test)\n",
        "accuracy = score * 100\n",
        "print(accuracy)"
      ],
      "execution_count": 17,
      "outputs": [
        {
          "output_type": "stream",
          "text": [
            "93.47068473282515\n"
          ],
          "name": "stdout"
        }
      ]
    }
  ]
}